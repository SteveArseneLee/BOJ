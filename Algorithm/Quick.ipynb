{
 "cells": [
  {
   "cell_type": "markdown",
   "metadata": {},
   "source": [
    "## Quick Sort\n",
    "- 정렬 알고리즘의 꽃\n",
    "- 기준점(pivot이라고 부름)을 정해서, 기준점보다 작은 데이터는 왼쪽(left), \n",
    "큰 데이터는 오른쪽(right)으로 모으는 함수를 작성함\n",
    "- 각 왼쪽(left), 오른쪽(right)은 재귀용법을 사용해 다시 동일 함수를 호출해 위 작업을 반복\n",
    "- 함수는 왼쪽(left) + 기준점(pivot) + 오른쪽(right)을 리턴"
   ]
  },
  {
   "cell_type": "markdown",
   "metadata": {},
   "source": [
    "### pivot을 맨 처음 데이터로 선정"
   ]
  },
  {
   "cell_type": "code",
   "execution_count": 3,
   "metadata": {},
   "outputs": [],
   "source": [
    "def qsort(list):\n",
    "    pivot = list[0]\n",
    "    for n in range(1, len(list)):\n",
    "        if pivot > list[n]: left.append(list[n])\n",
    "        else: right.append(list[n])"
   ]
  },
  {
   "cell_type": "markdown",
   "metadata": {},
   "source": [
    "### 재귀적으로 패턴"
   ]
  },
  {
   "cell_type": "code",
   "execution_count": 4,
   "metadata": {},
   "outputs": [],
   "source": [
    "def qsort(list):\n",
    "    if len(list) <= 1: return list\n",
    "    pivot = list[0]\n",
    "    for n in range(1, len(list)):\n",
    "        if pivot > list[n]: left.append(list[n])\n",
    "        else: right.append(list[n])\n",
    "    return qsort(left) + [pivot] + qsort(right)"
   ]
  },
  {
   "cell_type": "markdown",
   "metadata": {},
   "source": [
    "## 실제 코드"
   ]
  },
  {
   "cell_type": "code",
   "execution_count": 5,
   "metadata": {},
   "outputs": [],
   "source": [
    "def qsort(data):\n",
    "    if len(data) <= 1:\n",
    "        return data\n",
    "    \n",
    "    left, right = list(), list()\n",
    "    pivot = data[0]\n",
    "    \n",
    "    for index in range(1, len(data)):\n",
    "        if pivot > data[index]:\n",
    "            left.append(data[index])\n",
    "        else:\n",
    "            right.append(data[index])\n",
    "    \n",
    "    return qsort(left) + [pivot] + qsort(right)"
   ]
  },
  {
   "cell_type": "code",
   "execution_count": 8,
   "metadata": {},
   "outputs": [
    {
     "data": {
      "text/plain": [
       "[5, 13, 29, 38, 64, 68, 76, 77, 95, 96]"
      ]
     },
     "execution_count": 8,
     "metadata": {},
     "output_type": "execute_result"
    }
   ],
   "source": [
    "import random\n",
    "\n",
    "data_list = random.sample(range(100),10)\n",
    "\n",
    "qsort(data_list)"
   ]
  },
  {
   "cell_type": "markdown",
   "metadata": {},
   "source": [
    "### list comprehension을 사용해 퀵정렬 작성"
   ]
  },
  {
   "cell_type": "code",
   "execution_count": 7,
   "metadata": {},
   "outputs": [],
   "source": [
    "def qsort(data):\n",
    "    if len(data) <= 1:\n",
    "        return data\n",
    "    \n",
    "    pivot = data[0]\n",
    "    \n",
    "    left = [item for item in data[1:] if pivot > item]\n",
    "    right = [item for item in data[1:] if pivot <= item]\n",
    "    \n",
    "    return qsort(left) + [pivot] + qsort(right)"
   ]
  },
  {
   "cell_type": "markdown",
   "metadata": {},
   "source": [
    "## 알고리즘 분석\n",
    "- 병합정렬과 유사, 시간복잡도는 O(n logn)\n",
    "    - 단, 최악의 경우\n",
    "        - 맨 처음 pivot이 가장 크거나, 가장 작으면\n",
    "        - 모든 데이터를 비교하는 상황이 나옴\n",
    "        - O($n^2$)"
   ]
  }
 ],
 "metadata": {
  "interpreter": {
   "hash": "38cea5cf1389ac231da7d6b2de60da53519f24bba7b60cfc7752c4e87c806eeb"
  },
  "kernelspec": {
   "display_name": "Python 3.8.10 64-bit",
   "language": "python",
   "name": "python3"
  },
  "language_info": {
   "codemirror_mode": {
    "name": "ipython",
    "version": 3
   },
   "file_extension": ".py",
   "mimetype": "text/x-python",
   "name": "python",
   "nbconvert_exporter": "python",
   "pygments_lexer": "ipython3",
   "version": "3.8.10"
  },
  "orig_nbformat": 4
 },
 "nbformat": 4,
 "nbformat_minor": 2
}
