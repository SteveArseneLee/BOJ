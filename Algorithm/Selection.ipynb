{
 "cells": [
  {
   "cell_type": "markdown",
   "metadata": {},
   "source": [
    "## Selection Sort\n",
    "- 다음과 같은 순서를 반복하며 정렬하는 알고리즘\n",
    "    1. 주어진 데이터 중, 최소값을 찾음\n",
    "    2. 해당 최소값을 데이터 맨 앞에 위치한 값과 교체\n",
    "    3. 맨 앞의 위치를 뺀 나머지 데이터를 동일한 방법으로 반복"
   ]
  },
  {
   "cell_type": "markdown",
   "metadata": {},
   "source": [
    "#### 직접 눈으로 보면 더 이해가 쉽다: https://visualgo.net/en/sorting\n",
    "\n",
    "<img src=\"https://upload.wikimedia.org/wikipedia/commons/9/94/Selection-Sort-Animation.gif\" width=100>"
   ]
  },
  {
   "cell_type": "markdown",
   "metadata": {},
   "source": [
    "* 데이터가 두 개 일때\n",
    "  - 예: dataList = [9, 1]\n",
    "    - data_list[0] > data_list[1] 이므로 data_list[0] 값과 data_ list[1] 값을 교환\n",
    "* 데이터가 세 개 일때\n",
    "  - 예: data_list = [9, 1, 7]\n",
    "    - 처음 한번 실행하면, 1, 9, 7 이 됨\n",
    "    - 두 번째 실행하면, 1, 7, 9 가 됨\n",
    "* 데이터가 네 개 일때\n",
    "  - 예: data_list = [9, 3, 2, 1]\n",
    "    - 처음 한번 실행하면, 1, 3, 2, 9 가 됨\n",
    "    - 두 번째 실행하면, 1, 2, 3, 9 가 됨\n",
    "    - 세 번째 실행하면, 변화 없음"
   ]
  },
  {
   "cell_type": "markdown",
   "metadata": {},
   "source": [
    "###  알고리즘 구현\n",
    "1. for stand in range(len(data_list) - 1) 로 반복\n",
    "2. lowest = stand 로 놓고,\n",
    "3. for num in range(stand, len(data_list)) stand 이후부터 반복\n",
    "   - 내부 반복문 안에서 data_list[lowest] > data_list[num] 이면, \n",
    "     - lowest = num\n",
    "4. data_list[num], data_list[lowest] = data_list[lowest], data_list[num]   "
   ]
  },
  {
   "cell_type": "code",
   "execution_count": null,
   "metadata": {},
   "outputs": [],
   "source": [
    "for stand in range(len(data) - 1):\n",
    "    lowest = stand\n",
    "    for index in range(stand + 1, len(data)):\n",
    "        if data[lowest] > data[index]:\n",
    "            lowest = index\n",
    "    swap(lowest, stand)"
   ]
  },
  {
   "cell_type": "code",
   "execution_count": 1,
   "metadata": {},
   "outputs": [],
   "source": [
    "def selection_sort(data):\n",
    "    for stand in range(len(data) - 1):\n",
    "        lowest = stand\n",
    "        for index in range(stand + 1, len(data)):\n",
    "            if data[lowest] > data[index]:\n",
    "                lowest = index\n",
    "        data[lowest], data[stand] = data[stand], data[lowest]\n",
    "    return data"
   ]
  },
  {
   "cell_type": "code",
   "execution_count": 2,
   "metadata": {},
   "outputs": [],
   "source": [
    "import random\n",
    "\n",
    "data_list = random.sample(range(100), 10)"
   ]
  },
  {
   "cell_type": "code",
   "execution_count": 3,
   "metadata": {},
   "outputs": [
    {
     "data": {
      "text/plain": [
       "[1, 5, 17, 26, 56, 68, 73, 86, 88, 97]"
      ]
     },
     "execution_count": 3,
     "metadata": {},
     "output_type": "execute_result"
    }
   ],
   "source": [
    "selection_sort(data_list)"
   ]
  },
  {
   "cell_type": "markdown",
   "metadata": {},
   "source": [
    "### 알고리즘 분석\n",
    "* 반복문이 두 개 O($n^2$)\n",
    "  - 실제로 상세하게 계산하면, <font size=5em>$\\frac { n * (n - 1)}{ 2 }$</font>"
   ]
  }
 ],
 "metadata": {
  "interpreter": {
   "hash": "38cea5cf1389ac231da7d6b2de60da53519f24bba7b60cfc7752c4e87c806eeb"
  },
  "kernelspec": {
   "display_name": "Python 3.8.10 64-bit",
   "language": "python",
   "name": "python3"
  },
  "language_info": {
   "codemirror_mode": {
    "name": "ipython",
    "version": 3
   },
   "file_extension": ".py",
   "mimetype": "text/x-python",
   "name": "python",
   "nbconvert_exporter": "python",
   "pygments_lexer": "ipython3",
   "version": "3.8.10"
  },
  "orig_nbformat": 4
 },
 "nbformat": 4,
 "nbformat_minor": 2
}
